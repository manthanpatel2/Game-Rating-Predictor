{
 "cells": [
  {
   "cell_type": "code",
   "execution_count": 1,
   "metadata": {},
   "outputs": [],
   "source": [
    "import pandas as pd\n",
    "import numpy as np\n",
    "import joblib\n",
    "\n",
    "from sklearn.feature_extraction.text import TfidfVectorizer\n",
    "from sklearn.svm import LinearSVC\n",
    "from sklearn.metrics import accuracy_score\n",
    "\n",
    "from sys import path\n",
    "from os.path import join\n",
    "\n"
   ]
  },
  {
   "cell_type": "code",
   "execution_count": 2,
   "metadata": {},
   "outputs": [],
   "source": [
    "filePath = join(join(path[0], 'boardgamegeek-reviews'), 'bgg-13m-reviews.csv')"
   ]
  },
  {
   "cell_type": "code",
   "execution_count": 3,
   "metadata": {},
   "outputs": [
    {
     "name": "stdout",
     "output_type": "stream",
     "text": [
      "C:\\Users\\mtn22\\boardgamegeek-reviews\\bgg-13m-reviews.csv\n"
     ]
    }
   ],
   "source": [
    "print(filePath)"
   ]
  },
  {
   "cell_type": "code",
   "execution_count": 4,
   "metadata": {},
   "outputs": [],
   "source": [
    "def loadData(path):\n",
    "    d = pd.read_csv(path)\n",
    "    d = d[['comment', 'rating']].copy()\n",
    "    d = d.fillna('')\n",
    "    \n",
    "    return d"
   ]
  },
  {
   "cell_type": "code",
   "execution_count": 5,
   "metadata": {},
   "outputs": [],
   "source": [
    "def formatRawData(rawData):\n",
    "    rawData['comment'] = [c.strip().lower() for c in rawData['comment']]\n",
    "    rawData['comment'] = [c if c.islower() else '' for c in rawData['comment']]\n",
    "    \n",
    "    #only take data with comments\n",
    "    rawData = rawData[rawData['comment'].apply(lambda alpha: len(alpha) > 0)]\n",
    "    #only take data with ratings 1 or greater\n",
    "    rawData = rawData[rawData['rating'].apply(lambda alpha: float(alpha) >= 1)]\n",
    "    rawData = rawData.sample(frac = 1).reset_index(drop = True)  \n",
    "    \n",
    "    rawData['rating'] = [float(rating) for rating in rawData['rating']]\n",
    "    \n",
    "    \n",
    "    #for i in range(len(rawData)):\n",
    "     #   words = re.split(r'\\W+', rawData['comment'][i])\n",
    "      #  stop_words = set(stopwords.words('english'))\n",
    "       # words = [w for w in words if not w in stop_words]\n",
    "        #rawData.loc[i, 'comment'] = ' '.join(map(str, words)).lower()\n",
    "        \n",
    "    return rawData"
   ]
  },
  {
   "cell_type": "code",
   "execution_count": 6,
   "metadata": {},
   "outputs": [
    {
     "name": "stdout",
     "output_type": "stream",
     "text": [
      "\n",
      "13170073\n",
      "quickly becoming one of my favorite games. extremely simple to learn and play yet you are always left second guessing yourself and wondering how you could have played better. we always find ourselves discussing our strategies after every game trying to figure out what we might have done right or wrong. win or lose the game is just a pleasure to play and dissect while remaining extremely simple. the components are fun to trade and handle. will always be a part of the collection.\n",
      "2592855\n"
     ]
    }
   ],
   "source": [
    "rawData = loadData(filePath)\n",
    "\n",
    "print(rawData['comment'][0])\n",
    "print(len(rawData))\n",
    "\n",
    "data = formatRawData(rawData)\n",
    "\n",
    "print(data['comment'][0])\n",
    "print(len(data))"
   ]
  },
  {
   "cell_type": "code",
   "execution_count": 7,
   "metadata": {},
   "outputs": [],
   "source": [
    "def divideData(data, train):\n",
    "    data = data.sample(frac=1).reset_index(drop = True)\n",
    "    #dataLen = len(data['comment'])\n",
    "    dataLen = data.shape[0]\n",
    "    \n",
    "    trainData = data[:int(train * dataLen)]\n",
    "    devData = data[int(train * dataLen):int((train + 1)/2 * dataLen)]\n",
    "    testData = data[int((train + 1)/2 * dataLen):]\n",
    "    \n",
    "    trainData = trainData.sample(frac = 1).reset_index(drop = True)\n",
    "    devData = devData.sample(frac = 1).reset_index(drop = True)\n",
    "    testData = testData.sample(frac = 1).reset_index(drop = True)\n",
    "    \n",
    "    return [trainData, devData, testData]"
   ]
  },
  {
   "cell_type": "code",
   "execution_count": 8,
   "metadata": {},
   "outputs": [],
   "source": [
    "trainData, devData, testData = divideData(data, 0.9).copy()"
   ]
  },
  {
   "cell_type": "code",
   "execution_count": 9,
   "metadata": {},
   "outputs": [
    {
     "name": "stdout",
     "output_type": "stream",
     "text": [
      "2333569\n",
      "129643\n",
      "129643\n"
     ]
    }
   ],
   "source": [
    "print(trainData.shape[0])\n",
    "print(devData.shape[0])\n",
    "print(testData.shape[0])"
   ]
  },
  {
   "cell_type": "code",
   "execution_count": 10,
   "metadata": {},
   "outputs": [],
   "source": [
    "def vectorizeData(data, vectorizer):\n",
    "    data_c = vectorizer.transform(data['comment'])\n",
    "    data_r = np.asarray([int(r) if r%int(r) <= 0.5 else int(r + 1) for r in data['rating']])\n",
    "    \n",
    "    return [data_c, data_r]"
   ]
  },
  {
   "cell_type": "code",
   "execution_count": 11,
   "metadata": {},
   "outputs": [
    {
     "data": {
      "text/plain": [
       "['vectorizer.pkl']"
      ]
     },
     "execution_count": 11,
     "metadata": {},
     "output_type": "execute_result"
    }
   ],
   "source": [
    "vectorizer = TfidfVectorizer(ngram_range=(1, 2))\n",
    "vectorizer.fit(trainData['comment'])\n",
    " train_c, train_r = vectorizeData(trainData, vectorizer).copy()\n",
    " test_c, test_r = vectorizeData(testData, vectorizer).copy()\n",
    " dev_c, dev_r = vectorizeData(devData, vectorizer).copy()\n",
    "\n",
    "#joblib.dump(vectorizer, 'vectorizer.pkl')"
   ]
  },
  {
   "cell_type": "code",
   "execution_count": null,
   "metadata": {},
   "outputs": [],
   "source": [
    "#hyper parameter tuning \n",
    "C = [0.1, 0.3, 0.5, 0.7, 0.9, 1]\n",
    "\n",
    "for c in C:\n",
    "    svm = LinearSVC(C = c)\n",
    "    svm.fit(train_c, train_r)\n",
    "    \n",
    "    pred_r = svm.predict(dev_c)\n",
    "\n",
    "    accuracy = accuracy_score(dev_r, pred_r)*100\n",
    "\n",
    "    print('SVM accuracy for C={}: {:.5f}%\\n'.format(c, accuracy))"
   ]
  },
  {
   "cell_type": "code",
   "execution_count": 12,
   "metadata": {},
   "outputs": [],
   "source": [
    "svm = LinearSVC(C=0.1)\n",
    "svm.fit(train_c, train_r)"
   ]
  },
  {
   "cell_type": "code",
   "execution_count": 13,
   "metadata": {},
   "outputs": [],
   "source": [
    "pred_r = svm.predict(dev_c)\n",
    "accuracy = accuracy_score(dev_r, pred_r)*100\n",
    "print('SVM accuracy for C={}: {:.5f}%\\n'.format(accuracy))"
   ]
  },
  {
   "cell_type": "code",
   "execution_count": 15,
   "metadata": {},
   "outputs": [
    {
     "name": "stdout",
     "output_type": "stream",
     "text": [
      "SVM Final accuracy : 35.10318%\n"
     ]
    }
   ],
   "source": [
    "#Final Accuracy\n",
    "\n",
    "predT_r = svm.predict(test_c)\n",
    "accuracy = accuracy_score(test_r, predT_r)*100\n",
    "print('SVM final accuracy: {:.5f}%\\n'.format(accuracy))\n",
    "    "
   ]
  }
 ],
 "metadata": {
  "kernelspec": {
   "display_name": "Python 3",
   "language": "python",
   "name": "python3"
  },
  "language_info": {
   "codemirror_mode": {
    "name": "ipython",
    "version": 3
   },
   "file_extension": ".py",
   "mimetype": "text/x-python",
   "name": "python",
   "nbconvert_exporter": "python",
   "pygments_lexer": "ipython3",
   "version": "3.7.4"
  }
 },
 "nbformat": 4,
 "nbformat_minor": 2
}
